{
 "cells": [
  {
   "cell_type": "code",
   "execution_count": 2,
   "metadata": {},
   "outputs": [
    {
     "name": "stdout",
     "output_type": "stream",
     "text": [
      "Jai Shri Krishna\n"
     ]
    }
   ],
   "source": [
    "print('Jai Shri Krishna')"
   ]
  },
  {
   "cell_type": "code",
   "execution_count": 3,
   "metadata": {},
   "outputs": [],
   "source": [
    "board = [[\"A\",\"B\",\"C\",\"E\"],\n",
    "         [\"S\",\"F\",\"C\",\"S\"],\n",
    "         [\"A\",\"D\",\"E\",\"E\"]]"
   ]
  },
  {
   "cell_type": "code",
   "execution_count": 4,
   "metadata": {},
   "outputs": [
    {
     "data": {
      "text/plain": [
       "'A'"
      ]
     },
     "execution_count": 4,
     "metadata": {},
     "output_type": "execute_result"
    }
   ],
   "source": [
    "board[2][0]"
   ]
  },
  {
   "cell_type": "code",
   "execution_count": 5,
   "metadata": {},
   "outputs": [],
   "source": [
    "word = \"ABCCED\""
   ]
  },
  {
   "cell_type": "code",
   "execution_count": 36,
   "metadata": {},
   "outputs": [
    {
     "name": "stdout",
     "output_type": "stream",
     "text": [
      "3 4\n"
     ]
    }
   ],
   "source": [
    "row = len(board)\n",
    "col = len(board[0])\n",
    "print(row, col)"
   ]
  },
  {
   "cell_type": "code",
   "execution_count": 6,
   "metadata": {},
   "outputs": [
    {
     "data": {
      "text/plain": [
       "('A', 6)"
      ]
     },
     "execution_count": 6,
     "metadata": {},
     "output_type": "execute_result"
    }
   ],
   "source": [
    "word[0], len(word)"
   ]
  },
  {
   "cell_type": "code",
   "execution_count": 9,
   "metadata": {},
   "outputs": [
    {
     "name": "stdout",
     "output_type": "stream",
     "text": [
      "A\n",
      "B\n",
      "C\n",
      "C\n",
      "E\n",
      "D\n"
     ]
    }
   ],
   "source": [
    "for i in range(len(word)):\n",
    "    print(word[i])"
   ]
  },
  {
   "cell_type": "code",
   "execution_count": 16,
   "metadata": {},
   "outputs": [
    {
     "name": "stdout",
     "output_type": "stream",
     "text": [
      "A found\n"
     ]
    }
   ],
   "source": [
    "if word[0] in board[2]:\n",
    "    print(word[0], 'found')"
   ]
  },
  {
   "cell_type": "code",
   "execution_count": 21,
   "metadata": {},
   "outputs": [
    {
     "name": "stdout",
     "output_type": "stream",
     "text": [
      "[[0, 0], [2, 0]]\n"
     ]
    }
   ],
   "source": [
    "loc = []\n",
    "for row in range(len(board)):\n",
    "    for col in range(len(board[0])):\n",
    "        if board[row][col] == word[0]:\n",
    "            loc.append([row, col])\n",
    "print(loc)\n",
    "        \n",
    "    "
   ]
  },
  {
   "cell_type": "code",
   "execution_count": 31,
   "metadata": {},
   "outputs": [
    {
     "name": "stdout",
     "output_type": "stream",
     "text": [
      "0\n",
      "2\n"
     ]
    }
   ],
   "source": [
    "loc = [[0,0], [2,0]]\n",
    "for x in loc:\n",
    "    print(x[0])"
   ]
  },
  {
   "cell_type": "code",
   "execution_count": 32,
   "metadata": {},
   "outputs": [
    {
     "data": {
      "text/plain": [
       "[[0, 0], [2, 0]]"
      ]
     },
     "execution_count": 32,
     "metadata": {},
     "output_type": "execute_result"
    }
   ],
   "source": [
    "loc"
   ]
  },
  {
   "cell_type": "code",
   "execution_count": 33,
   "metadata": {},
   "outputs": [
    {
     "data": {
      "text/plain": [
       "'B'"
      ]
     },
     "execution_count": 33,
     "metadata": {},
     "output_type": "execute_result"
    }
   ],
   "source": [
    "word[1]"
   ]
  },
  {
   "cell_type": "code",
   "execution_count": 37,
   "metadata": {},
   "outputs": [
    {
     "data": {
      "text/plain": [
       "(3, 4)"
      ]
     },
     "execution_count": 37,
     "metadata": {},
     "output_type": "execute_result"
    }
   ],
   "source": [
    "row, col"
   ]
  },
  {
   "cell_type": "code",
   "execution_count": null,
   "metadata": {},
   "outputs": [],
   "source": [
    "# i-1, j\n",
    "# i+1, j\n",
    "# i, j-1\n",
    "# i, j+1"
   ]
  },
  {
   "cell_type": "code",
   "execution_count": 44,
   "metadata": {},
   "outputs": [
    {
     "name": "stdout",
     "output_type": "stream",
     "text": [
      "[[0, 0], [2, 0]]\n"
     ]
    }
   ],
   "source": [
    "loc = []\n",
    "for row in range(len(board)):\n",
    "    for col in range(len(board[0])):\n",
    "        if board[row][col] == word[0]:\n",
    "            loc.append([row, col])\n",
    "print(loc)"
   ]
  },
  {
   "cell_type": "code",
   "execution_count": 48,
   "metadata": {},
   "outputs": [
    {
     "data": {
      "text/plain": [
       "'ABCCED'"
      ]
     },
     "execution_count": 48,
     "metadata": {},
     "output_type": "execute_result"
    }
   ],
   "source": [
    "word"
   ]
  },
  {
   "cell_type": "code",
   "execution_count": 6,
   "metadata": {},
   "outputs": [
    {
     "data": {
      "text/plain": [
       "'BCCED'"
      ]
     },
     "execution_count": 6,
     "metadata": {},
     "output_type": "execute_result"
    }
   ],
   "source": [
    "word[1:]"
   ]
  },
  {
   "cell_type": "code",
   "execution_count": 7,
   "metadata": {},
   "outputs": [
    {
     "ename": "NameError",
     "evalue": "name 'row' is not defined",
     "output_type": "error",
     "traceback": [
      "\u001b[1;31m---------------------------------------------------------------------------\u001b[0m",
      "\u001b[1;31mNameError\u001b[0m                                 Traceback (most recent call last)",
      "Cell \u001b[1;32mIn [7], line 1\u001b[0m\n\u001b[1;32m----> 1\u001b[0m \u001b[43mrow\u001b[49m, col\n",
      "\u001b[1;31mNameError\u001b[0m: name 'row' is not defined"
     ]
    }
   ],
   "source": [
    "row, col"
   ]
  },
  {
   "cell_type": "code",
   "execution_count": 8,
   "metadata": {},
   "outputs": [
    {
     "data": {
      "text/plain": [
       "(3, 4)"
      ]
     },
     "execution_count": 8,
     "metadata": {},
     "output_type": "execute_result"
    }
   ],
   "source": [
    "row = len(board)\n",
    "col = len(board[0])\n",
    "row, col"
   ]
  },
  {
   "cell_type": "code",
   "execution_count": null,
   "metadata": {},
   "outputs": [],
   "source": [
    "'''\n",
    "board = [[\"A\",\"B\",\"C\",\"E\"],\n",
    "         [\"S\",\"F\",\"C\",\"S\"],\n",
    "         [\"A\",\"D\",\"E\",\"E\"]]\n",
    "         \n",
    "word = \"ABCCED\"\n",
    " \n",
    "'''"
   ]
  },
  {
   "cell_type": "code",
   "execution_count": 38,
   "metadata": {},
   "outputs": [],
   "source": [
    "word = \"ABCCCED\""
   ]
  },
  {
   "cell_type": "code",
   "execution_count": 39,
   "metadata": {},
   "outputs": [
    {
     "name": "stdout",
     "output_type": "stream",
     "text": [
      "B\n",
      "0 1\n",
      "[[2, 0]]\n",
      "C\n",
      "0 2\n",
      "[]\n",
      "C\n",
      "1 2\n",
      "[]\n",
      "C\n",
      "0 2\n",
      "[]\n",
      "E\n",
      "D\n"
     ]
    }
   ],
   "source": [
    "loc = [[0, 0], [2, 0]]\n",
    "visited = []\n",
    "for letter in word[1:]:\n",
    "    print(letter)\n",
    "    loc1 = loc.copy()\n",
    "    loc.clear()\n",
    "    loc = []\n",
    "    result = (x for x in loc1 if x not in visited)\n",
    "    for x in result:\n",
    "        i, j = x[0], x[1]\n",
    "        visited.append(x)\n",
    "        loc1.remove(x)\n",
    "        if i-1!=-1:\n",
    "            if board[i-1][j] == letter:\n",
    "                print(i-1, j)\n",
    "                loc.append([i-1, j])\n",
    "        if i+1!=row:\n",
    "            if board[i+1][j] == letter:\n",
    "                print(+1, j)\n",
    "                loc.append([i+1, j])\n",
    "        if j-1!=-1:\n",
    "            if board[i][j-1] == letter:\n",
    "                print(i, j-1)\n",
    "                loc.append([i, j-1])\n",
    "        if j+1!=row:\n",
    "            if board[i][j+1] == letter:\n",
    "                print(i, j+1)\n",
    "                loc.append([i, j+1])    \n",
    "        print(loc1)\n",
    "                \n",
    "       \n",
    "    "
   ]
  },
  {
   "cell_type": "code",
   "execution_count": null,
   "metadata": {},
   "outputs": [],
   "source": []
  }
 ],
 "metadata": {
  "kernelspec": {
   "display_name": "Python 3",
   "language": "python",
   "name": "python3"
  },
  "language_info": {
   "codemirror_mode": {
    "name": "ipython",
    "version": 3
   },
   "file_extension": ".py",
   "mimetype": "text/x-python",
   "name": "python",
   "nbconvert_exporter": "python",
   "pygments_lexer": "ipython3",
   "version": "3.10.7"
  }
 },
 "nbformat": 4,
 "nbformat_minor": 2
}
